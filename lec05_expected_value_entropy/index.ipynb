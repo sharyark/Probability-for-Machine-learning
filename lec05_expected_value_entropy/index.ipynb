{
 "cells": [
  {
   "cell_type": "code",
   "execution_count": 2,
   "metadata": {},
   "outputs": [
    {
     "name": "stdout",
     "output_type": "stream",
     "text": [
      "Expected Value of rolling a fair die: 3.5\n"
     ]
    }
   ],
   "source": [
    "# Expected Value Calculation without using list comprehension\n",
    "def expected_value_die():\n",
    "    # Possible outcomes and their probabilities\n",
    "    outcomes = [1, 2, 3, 4, 5, 6]\n",
    "    probabilities = [1/6] * 6  # Each outcome has equal probability\n",
    "\n",
    "    # Initialize expected value\n",
    "    expected_value = 0\n",
    "\n",
    "    # Calculate expected value using a loop\n",
    "    for i in range(len(outcomes)):\n",
    "        expected_value += outcomes[i] * probabilities[i]\n",
    "\n",
    "    return expected_value\n",
    "\n",
    "# Call the function\n",
    "ev = expected_value_die()\n",
    "print(f\"Expected Value of rolling a fair die: {ev}\")\n"
   ]
  },
  {
   "cell_type": "markdown",
   "metadata": {},
   "source": [
    "####\n",
    "this is conflip ok dont confuse with uppar example\n",
    "###"
   ]
  },
  {
   "cell_type": "code",
   "execution_count": 3,
   "metadata": {},
   "outputs": [
    {
     "name": "stdout",
     "output_type": "stream",
     "text": [
      "Entropy of flipping a fair coin: 1.0 bits\n"
     ]
    }
   ],
   "source": [
    "import math\n",
    "\n",
    "# Entropy Calculation\n",
    "def entropy_coin():\n",
    "    # Possible outcomes and their probabilities\n",
    "    outcomes = ['Heads', 'Tails']\n",
    "    probabilities = [0.5, 0.5]  # Equal probability for Heads and Tails\n",
    "\n",
    "    # Calculate entropy\n",
    "    entropy = -sum(prob * math.log2(prob) for prob in probabilities)\n",
    "    return entropy\n",
    "\n",
    "# Call the function\n",
    "ent = entropy_coin()\n",
    "print(f\"Entropy of flipping a fair coin: {ent} bits\")"
   ]
  },
  {
   "cell_type": "code",
   "execution_count": null,
   "metadata": {},
   "outputs": [],
   "source": []
  }
 ],
 "metadata": {
  "kernelspec": {
   "display_name": "Python 3",
   "language": "python",
   "name": "python3"
  },
  "language_info": {
   "codemirror_mode": {
    "name": "ipython",
    "version": 3
   },
   "file_extension": ".py",
   "mimetype": "text/x-python",
   "name": "python",
   "nbconvert_exporter": "python",
   "pygments_lexer": "ipython3",
   "version": "3.12.3"
  }
 },
 "nbformat": 4,
 "nbformat_minor": 2
}
