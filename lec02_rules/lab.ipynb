{
 "cells": [
  {
   "cell_type": "code",
   "execution_count": 2,
   "metadata": {},
   "outputs": [],
   "source": [
    "import numpy as np"
   ]
  },
  {
   "cell_type": "code",
   "execution_count": 3,
   "metadata": {},
   "outputs": [],
   "source": [
    "# 1. Sum Rule\n",
    "def sum_rule(probabilities):\n",
    "    \"\"\"\n",
    "    Calculates the sum of given probabilities for mutually exclusive events.\n",
    "\n",
    "    :param probabilities: List of probabilities\n",
    "    :return: Total probability\n",
    "    \"\"\"\n",
    "    return np.sum(probabilities)"
   ]
  },
  {
   "cell_type": "code",
   "execution_count": 4,
   "metadata": {},
   "outputs": [
    {
     "name": "stdout",
     "output_type": "stream",
     "text": [
      "P(A1 ∪ A2) = 0.3333333333333333\n"
     ]
    }
   ],
   "source": [
    "# Example usage for Sum Rule\n",
    "p_A1 = 1/6  # Probability of event A1\n",
    "p_A2 = 1/6  # Probability of event A2\n",
    "total_probability_sum = sum_rule([p_A1, p_A2])\n",
    "print(f\"P(A1 ∪ A2) = {total_probability_sum}\")"
   ]
  },
  {
   "cell_type": "code",
   "execution_count": 5,
   "metadata": {},
   "outputs": [],
   "source": [
    "# 2. Product Rule\n",
    "def product_rule(p_A, p_B):\n",
    "    \"\"\"\n",
    "    Calculates the probability of two independent events.\n",
    "\n",
    "    :param p_A: Probability of event A\n",
    "    :param p_B: Probability of event B\n",
    "    :return: Joint probability\n",
    "    \"\"\"\n",
    "    return p_A * p_B"
   ]
  },
  {
   "cell_type": "code",
   "execution_count": 6,
   "metadata": {},
   "outputs": [
    {
     "name": "stdout",
     "output_type": "stream",
     "text": [
      "P(A ∩ B) = 0.25\n"
     ]
    }
   ],
   "source": [
    "# Example usage for Product Rule\n",
    "p_A = 1/2  # Probability of getting heads on first flip\n",
    "p_B = 1/2  # Probability of getting heads on second flip\n",
    "total_probability_product = product_rule(p_A, p_B)\n",
    "print(f\"P(A ∩ B) = {total_probability_product}\")"
   ]
  },
  {
   "cell_type": "code",
   "execution_count": 7,
   "metadata": {},
   "outputs": [],
   "source": [
    "# 3. Conditional Probability\n",
    "def conditional_probability(p_A_and_B, p_B):\n",
    "    \"\"\"\n",
    "    Calculates the conditional probability of an event given another event.\n",
    "\n",
    "    :param p_A_and_B: Probability of both events A and B occurring\n",
    "    :param p_B: Probability of event B\n",
    "    :return: Conditional probability\n",
    "    \"\"\"\n",
    "    return p_A_and_B / p_B"
   ]
  },
  {
   "cell_type": "code",
   "execution_count": 8,
   "metadata": {},
   "outputs": [
    {
     "name": "stdout",
     "output_type": "stream",
     "text": [
      "P(A | B) = 0.07692307692307693\n"
     ]
    }
   ],
   "source": [
    "# Example usage for Conditional Probability\n",
    "p_A_and_B = 2/52  # Probability of drawing a red Ace\n",
    "p_B = 26/52       # Probability of drawing a red card\n",
    "p_A_given_B = conditional_probability(p_A_and_B, p_B)\n",
    "print(f\"P(A | B) = {p_A_given_B}\")"
   ]
  },
  {
   "cell_type": "code",
   "execution_count": null,
   "metadata": {},
   "outputs": [],
   "source": []
  },
  {
   "cell_type": "code",
   "execution_count": null,
   "metadata": {},
   "outputs": [],
   "source": []
  }
 ],
 "metadata": {
  "kernelspec": {
   "display_name": "Python 3",
   "language": "python",
   "name": "python3"
  },
  "language_info": {
   "codemirror_mode": {
    "name": "ipython",
    "version": 3
   },
   "file_extension": ".py",
   "mimetype": "text/x-python",
   "name": "python",
   "nbconvert_exporter": "python",
   "pygments_lexer": "ipython3",
   "version": "3.12.3"
  }
 },
 "nbformat": 4,
 "nbformat_minor": 2
}
